{
  "nbformat": 4,
  "nbformat_minor": 0,
  "metadata": {
    "colab": {
      "provenance": [],
      "gpuType": "T4"
    },
    "kernelspec": {
      "name": "python3",
      "display_name": "Python 3"
    },
    "language_info": {
      "name": "python"
    },
    "accelerator": "GPU"
  },
  "cells": [
    {
      "cell_type": "code",
      "execution_count": null,
      "metadata": {
        "id": "GKzr_C_I6_zn",
        "colab": {
          "base_uri": "https://localhost:8080/"
        },
        "outputId": "0a353aab-776e-4922-c1a8-09cfabc67342"
      },
      "outputs": [
        {
          "output_type": "stream",
          "name": "stdout",
          "text": [
            "Looking in indexes: https://pypi.org/simple, https://us-python.pkg.dev/colab-wheels/public/simple/\n",
            "Requirement already satisfied: gdown in /usr/local/lib/python3.10/dist-packages (4.6.6)\n",
            "Requirement already satisfied: filelock in /usr/local/lib/python3.10/dist-packages (from gdown) (3.12.0)\n",
            "Requirement already satisfied: requests[socks] in /usr/local/lib/python3.10/dist-packages (from gdown) (2.27.1)\n",
            "Requirement already satisfied: six in /usr/local/lib/python3.10/dist-packages (from gdown) (1.16.0)\n",
            "Requirement already satisfied: tqdm in /usr/local/lib/python3.10/dist-packages (from gdown) (4.65.0)\n",
            "Requirement already satisfied: beautifulsoup4 in /usr/local/lib/python3.10/dist-packages (from gdown) (4.11.2)\n",
            "Requirement already satisfied: soupsieve>1.2 in /usr/local/lib/python3.10/dist-packages (from beautifulsoup4->gdown) (2.4.1)\n",
            "Requirement already satisfied: urllib3<1.27,>=1.21.1 in /usr/local/lib/python3.10/dist-packages (from requests[socks]->gdown) (1.26.15)\n",
            "Requirement already satisfied: certifi>=2017.4.17 in /usr/local/lib/python3.10/dist-packages (from requests[socks]->gdown) (2022.12.7)\n",
            "Requirement already satisfied: charset-normalizer~=2.0.0 in /usr/local/lib/python3.10/dist-packages (from requests[socks]->gdown) (2.0.12)\n",
            "Requirement already satisfied: idna<4,>=2.5 in /usr/local/lib/python3.10/dist-packages (from requests[socks]->gdown) (3.4)\n",
            "Requirement already satisfied: PySocks!=1.5.7,>=1.5.6 in /usr/local/lib/python3.10/dist-packages (from requests[socks]->gdown) (1.7.1)\n",
            "Downloading...\n",
            "From: https://drive.google.com/uc?id=1QEBKespXTmsMzsSRBXWdpIT0Ve7nnaRZ\n",
            "To: /content/generator_v1\n",
            "100% 55.8M/55.8M [00:00<00:00, 260MB/s]\n",
            "Downloading...\n",
            "From: https://drive.google.com/uc?id=1l5EUVBKM0SK7ec4HWf_wZvEITAsdOLFC\n",
            "To: /content/config.json\n",
            "100% 795/795 [00:00<00:00, 5.17MB/s]\n"
          ]
        }
      ],
      "source": [
        "!pip install gdown\n",
        "\n",
        "\n",
        "!gdown 1QEBKespXTmsMzsSRBXWdpIT0Ve7nnaRZ\n",
        "\n",
        "!gdown 1l5EUVBKM0SK7ec4HWf_wZvEITAsdOLFC"
      ]
    },
    {
      "cell_type": "code",
      "source": [
        "!gdown 1zSYYnJFS-gQox-IeI71hVY-fdPysxuFK"
      ],
      "metadata": {
        "colab": {
          "base_uri": "https://localhost:8080/"
        },
        "id": "nPG3cU9Z_X4o",
        "outputId": "c007b822-2dd6-4bee-943d-419d86972dfa"
      },
      "execution_count": null,
      "outputs": [
        {
          "output_type": "stream",
          "name": "stdout",
          "text": [
            "Downloading...\n",
            "From: https://drive.google.com/uc?id=1zSYYnJFS-gQox-IeI71hVY-fdPysxuFK\n",
            "To: /content/hifigan-asc.pth\n",
            "100% 55.8M/55.8M [00:03<00:00, 14.7MB/s]\n"
          ]
        }
      ]
    },
    {
      "cell_type": "code",
      "source": [
        "!git clone https://github.com/jik876/hifi-gan.git"
      ],
      "metadata": {
        "colab": {
          "base_uri": "https://localhost:8080/"
        },
        "id": "lQRvRPR2-IbQ",
        "outputId": "80540d11-0cf3-4a63-a454-98014d91a5ea"
      },
      "execution_count": null,
      "outputs": [
        {
          "output_type": "stream",
          "name": "stdout",
          "text": [
            "Cloning into 'hifi-gan'...\n",
            "remote: Enumerating objects: 48, done.\u001b[K\n",
            "remote: Total 48 (delta 0), reused 0 (delta 0), pack-reused 48\u001b[K\n",
            "Unpacking objects: 100% (48/48), 620.92 KiB | 6.61 MiB/s, done.\n"
          ]
        }
      ]
    },
    {
      "cell_type": "code",
      "source": [
        "%cd /content/hifi-gan"
      ],
      "metadata": {
        "colab": {
          "base_uri": "https://localhost:8080/"
        },
        "id": "CM72BMo3-IXy",
        "outputId": "e3545350-d1cc-4846-b021-f54a2cdeb74e"
      },
      "execution_count": null,
      "outputs": [
        {
          "output_type": "stream",
          "name": "stdout",
          "text": [
            "/content/hifi-gan\n"
          ]
        }
      ]
    },
    {
      "cell_type": "code",
      "source": [
        "!pip install -r requirements.txt"
      ],
      "metadata": {
        "colab": {
          "base_uri": "https://localhost:8080/"
        },
        "id": "kCWhlTIm-IVQ",
        "outputId": "62cf481e-3089-49a1-d274-4f4b1a51eb4a"
      },
      "execution_count": null,
      "outputs": [
        {
          "output_type": "stream",
          "name": "stdout",
          "text": [
            "Looking in indexes: https://pypi.org/simple, https://us-python.pkg.dev/colab-wheels/public/simple/\n",
            "\u001b[31mERROR: Could not find a version that satisfies the requirement torch==1.8.0 (from versions: 1.11.0, 1.12.0, 1.12.1, 1.13.0, 1.13.1, 2.0.0, 2.0.1)\u001b[0m\u001b[31m\n",
            "\u001b[0m\u001b[31mERROR: No matching distribution found for torch==1.8.0\u001b[0m\u001b[31m\n",
            "\u001b[0m"
          ]
        }
      ]
    },
    {
      "cell_type": "code",
      "source": [
        "!pip install kaggle"
      ],
      "metadata": {
        "colab": {
          "base_uri": "https://localhost:8080/"
        },
        "id": "ajcrhEb_-IS4",
        "outputId": "2e04e469-fa84-4f2d-cc4f-f3022cd35db4"
      },
      "execution_count": null,
      "outputs": [
        {
          "output_type": "stream",
          "name": "stdout",
          "text": [
            "Looking in indexes: https://pypi.org/simple, https://us-python.pkg.dev/colab-wheels/public/simple/\n",
            "Requirement already satisfied: kaggle in /usr/local/lib/python3.10/dist-packages (1.5.13)\n",
            "Requirement already satisfied: six>=1.10 in /usr/local/lib/python3.10/dist-packages (from kaggle) (1.16.0)\n",
            "Requirement already satisfied: certifi in /usr/local/lib/python3.10/dist-packages (from kaggle) (2022.12.7)\n",
            "Requirement already satisfied: python-dateutil in /usr/local/lib/python3.10/dist-packages (from kaggle) (2.8.2)\n",
            "Requirement already satisfied: requests in /usr/local/lib/python3.10/dist-packages (from kaggle) (2.27.1)\n",
            "Requirement already satisfied: tqdm in /usr/local/lib/python3.10/dist-packages (from kaggle) (4.65.0)\n",
            "Requirement already satisfied: python-slugify in /usr/local/lib/python3.10/dist-packages (from kaggle) (8.0.1)\n",
            "Requirement already satisfied: urllib3 in /usr/local/lib/python3.10/dist-packages (from kaggle) (1.26.15)\n",
            "Requirement already satisfied: text-unidecode>=1.3 in /usr/local/lib/python3.10/dist-packages (from python-slugify->kaggle) (1.3)\n",
            "Requirement already satisfied: charset-normalizer~=2.0.0 in /usr/local/lib/python3.10/dist-packages (from requests->kaggle) (2.0.12)\n",
            "Requirement already satisfied: idna<4,>=2.5 in /usr/local/lib/python3.10/dist-packages (from requests->kaggle) (3.4)\n"
          ]
        }
      ]
    },
    {
      "cell_type": "code",
      "source": [
        "!mkdir /root/.kaggle"
      ],
      "metadata": {
        "id": "l6GWRY_d-IQO"
      },
      "execution_count": null,
      "outputs": []
    },
    {
      "cell_type": "code",
      "source": [
        "import os\n",
        "os.rename('/content/kaggle.json','/root/.kaggle/kaggle.json')"
      ],
      "metadata": {
        "id": "KQQDtjqx-INi"
      },
      "execution_count": null,
      "outputs": []
    },
    {
      "cell_type": "code",
      "source": [
        "# import shutil\n",
        "# shutil.rmtree('/content/tts-arabic-pytorch/content')\n",
        "%cd .."
      ],
      "metadata": {
        "colab": {
          "base_uri": "https://localhost:8080/"
        },
        "id": "ra_Ld99O-IK-",
        "outputId": "05b847aa-f6eb-4345-a7b3-cbc975c21fbd"
      },
      "execution_count": null,
      "outputs": [
        {
          "output_type": "stream",
          "name": "stdout",
          "text": [
            "/content\n"
          ]
        }
      ]
    },
    {
      "cell_type": "code",
      "source": [
        "!kaggle datasets download -d ahmedmohamed365/arabicfemalevoice-22khz"
      ],
      "metadata": {
        "colab": {
          "base_uri": "https://localhost:8080/"
        },
        "id": "b25EkdOW-IIj",
        "outputId": "2a51126d-6ac7-459e-d75f-5b4f22d309fc"
      },
      "execution_count": null,
      "outputs": [
        {
          "output_type": "stream",
          "name": "stdout",
          "text": [
            "Warning: Your Kaggle API key is readable by other users on this system! To fix this, you can run 'chmod 600 /root/.kaggle/kaggle.json'\n",
            "Downloading arabicfemalevoice-22khz.zip to /content\n",
            "100% 3.74G/3.74G [03:26<00:00, 16.3MB/s]\n",
            "100% 3.74G/3.74G [03:26<00:00, 19.4MB/s]\n"
          ]
        }
      ]
    },
    {
      "cell_type": "code",
      "source": [
        "!unzip /content/arabicfemalevoice-22khz.zip"
      ],
      "metadata": {
        "id": "25xvR4Ry-IFU"
      },
      "execution_count": null,
      "outputs": []
    },
    {
      "cell_type": "code",
      "source": [
        "!kaggle datasets download -d ahmedmohamed365/femalevoicetranscriptv2"
      ],
      "metadata": {
        "colab": {
          "base_uri": "https://localhost:8080/"
        },
        "id": "Ec7TwU00--jU",
        "outputId": "45e4ead9-a54b-441d-a147-d2c68af83328"
      },
      "execution_count": null,
      "outputs": [
        {
          "output_type": "stream",
          "name": "stdout",
          "text": [
            "Warning: Your Kaggle API key is readable by other users on this system! To fix this, you can run 'chmod 600 /root/.kaggle/kaggle.json'\n",
            "Downloading femalevoicetranscriptv2.zip to /content\n",
            " 65% 1.00M/1.55M [00:00<00:00, 1.13MB/s]\n",
            "100% 1.55M/1.55M [00:01<00:00, 1.59MB/s]\n"
          ]
        }
      ]
    },
    {
      "cell_type": "code",
      "source": [
        "%clear\n",
        "!unzip /content/femalevoicetranscriptv2.zip"
      ],
      "metadata": {
        "colab": {
          "base_uri": "https://localhost:8080/"
        },
        "id": "q28OPAG6--fv",
        "outputId": "868d1223-9310-44b5-8125-a0217987fe29"
      },
      "execution_count": null,
      "outputs": [
        {
          "output_type": "stream",
          "name": "stdout",
          "text": [
            "\u001b[H\u001b[2JArchive:  /content/femalevoicetranscriptv2.zip\n",
            "  inflating: buckwalter.txt          \n",
            "  inflating: phone.txt               \n",
            "  inflating: transcript.txt          \n"
          ]
        }
      ]
    },
    {
      "cell_type": "code",
      "source": [
        "%cd /content/hifi-gan"
      ],
      "metadata": {
        "colab": {
          "base_uri": "https://localhost:8080/"
        },
        "id": "cpFjZOzE--dj",
        "outputId": "a369c919-9b1c-45a5-fa69-d1a193b48164"
      },
      "execution_count": null,
      "outputs": [
        {
          "output_type": "stream",
          "name": "stdout",
          "text": [
            "/content/hifi-gan\n"
          ]
        }
      ]
    },
    {
      "cell_type": "code",
      "source": [
        "!gdown  1O63eHZR9t1haCdRHQcEgMfMNxiOciSru           -O /content/hifi-gan/universalWeights/do_02500000\n",
        "!gdown  1qpgI41wNXFcH-iKq1Y42JlBC9j0je8PW          -O /content/hifi-gan/universalWeights/go_02500000"
      ],
      "metadata": {
        "colab": {
          "base_uri": "https://localhost:8080/"
        },
        "id": "KMUYizB8CdT2",
        "outputId": "b1d9a2f0-ad4a-4c41-f195-e11fe4a1545a"
      },
      "execution_count": null,
      "outputs": [
        {
          "output_type": "stream",
          "name": "stdout",
          "text": [
            "Downloading...\n",
            "From: https://drive.google.com/uc?id=1O63eHZR9t1haCdRHQcEgMfMNxiOciSru\n",
            "To: /content/hifi-gan/universalWeights/do_02500000\n",
            "100% 960M/960M [00:32<00:00, 29.5MB/s]\n",
            "Downloading...\n",
            "From: https://drive.google.com/uc?id=1qpgI41wNXFcH-iKq1Y42JlBC9j0je8PW\n",
            "To: /content/hifi-gan/universalWeights/go_02500000\n",
            "100% 55.8M/55.8M [00:00<00:00, 56.4MB/s]\n"
          ]
        }
      ]
    },
    {
      "cell_type": "code",
      "source": [],
      "metadata": {
        "id": "Cy1x614BCdQQ"
      },
      "execution_count": null,
      "outputs": []
    },
    {
      "cell_type": "code",
      "source": [
        "!pip install librosa==0.8.0"
      ],
      "metadata": {
        "colab": {
          "base_uri": "https://localhost:8080/"
        },
        "id": "VSJS2TLJCdNr",
        "outputId": "9fa93763-9625-459b-98ab-a4482ccc0f9b"
      },
      "execution_count": null,
      "outputs": [
        {
          "output_type": "stream",
          "name": "stdout",
          "text": [
            "Looking in indexes: https://pypi.org/simple, https://us-python.pkg.dev/colab-wheels/public/simple/\n",
            "Collecting librosa==0.8.0\n",
            "  Downloading librosa-0.8.0.tar.gz (183 kB)\n",
            "\u001b[2K     \u001b[90m━━━━━━━━━━━━━━━━━━━━━━━━━━━━━━━━━━━━━━\u001b[0m \u001b[32m183.9/183.9 kB\u001b[0m \u001b[31m13.6 MB/s\u001b[0m eta \u001b[36m0:00:00\u001b[0m\n",
            "\u001b[?25h  Preparing metadata (setup.py) ... \u001b[?25l\u001b[?25hdone\n",
            "Requirement already satisfied: audioread>=2.0.0 in /usr/local/lib/python3.10/dist-packages (from librosa==0.8.0) (3.0.0)\n",
            "Requirement already satisfied: numpy>=1.15.0 in /usr/local/lib/python3.10/dist-packages (from librosa==0.8.0) (1.22.4)\n",
            "Requirement already satisfied: scipy>=1.0.0 in /usr/local/lib/python3.10/dist-packages (from librosa==0.8.0) (1.10.1)\n",
            "Requirement already satisfied: scikit-learn!=0.19.0,>=0.14.0 in /usr/local/lib/python3.10/dist-packages (from librosa==0.8.0) (1.2.2)\n",
            "Requirement already satisfied: joblib>=0.14 in /usr/local/lib/python3.10/dist-packages (from librosa==0.8.0) (1.2.0)\n",
            "Requirement already satisfied: decorator>=3.0.0 in /usr/local/lib/python3.10/dist-packages (from librosa==0.8.0) (4.4.2)\n",
            "Requirement already satisfied: resampy>=0.2.2 in /usr/local/lib/python3.10/dist-packages (from librosa==0.8.0) (0.4.2)\n",
            "Requirement already satisfied: numba>=0.43.0 in /usr/local/lib/python3.10/dist-packages (from librosa==0.8.0) (0.56.4)\n",
            "Requirement already satisfied: soundfile>=0.9.0 in /usr/local/lib/python3.10/dist-packages (from librosa==0.8.0) (0.12.1)\n",
            "Requirement already satisfied: pooch>=1.0 in /usr/local/lib/python3.10/dist-packages (from librosa==0.8.0) (1.6.0)\n",
            "Requirement already satisfied: llvmlite<0.40,>=0.39.0dev0 in /usr/local/lib/python3.10/dist-packages (from numba>=0.43.0->librosa==0.8.0) (0.39.1)\n",
            "Requirement already satisfied: setuptools in /usr/local/lib/python3.10/dist-packages (from numba>=0.43.0->librosa==0.8.0) (67.7.2)\n",
            "Requirement already satisfied: appdirs>=1.3.0 in /usr/local/lib/python3.10/dist-packages (from pooch>=1.0->librosa==0.8.0) (1.4.4)\n",
            "Requirement already satisfied: packaging>=20.0 in /usr/local/lib/python3.10/dist-packages (from pooch>=1.0->librosa==0.8.0) (23.1)\n",
            "Requirement already satisfied: requests>=2.19.0 in /usr/local/lib/python3.10/dist-packages (from pooch>=1.0->librosa==0.8.0) (2.27.1)\n",
            "Requirement already satisfied: threadpoolctl>=2.0.0 in /usr/local/lib/python3.10/dist-packages (from scikit-learn!=0.19.0,>=0.14.0->librosa==0.8.0) (3.1.0)\n",
            "Requirement already satisfied: cffi>=1.0 in /usr/local/lib/python3.10/dist-packages (from soundfile>=0.9.0->librosa==0.8.0) (1.15.1)\n",
            "Requirement already satisfied: pycparser in /usr/local/lib/python3.10/dist-packages (from cffi>=1.0->soundfile>=0.9.0->librosa==0.8.0) (2.21)\n",
            "Requirement already satisfied: urllib3<1.27,>=1.21.1 in /usr/local/lib/python3.10/dist-packages (from requests>=2.19.0->pooch>=1.0->librosa==0.8.0) (1.26.15)\n",
            "Requirement already satisfied: certifi>=2017.4.17 in /usr/local/lib/python3.10/dist-packages (from requests>=2.19.0->pooch>=1.0->librosa==0.8.0) (2022.12.7)\n",
            "Requirement already satisfied: charset-normalizer~=2.0.0 in /usr/local/lib/python3.10/dist-packages (from requests>=2.19.0->pooch>=1.0->librosa==0.8.0) (2.0.12)\n",
            "Requirement already satisfied: idna<4,>=2.5 in /usr/local/lib/python3.10/dist-packages (from requests>=2.19.0->pooch>=1.0->librosa==0.8.0) (3.4)\n",
            "Building wheels for collected packages: librosa\n",
            "  Building wheel for librosa (setup.py) ... \u001b[?25l\u001b[?25hdone\n",
            "  Created wheel for librosa: filename=librosa-0.8.0-py3-none-any.whl size=201378 sha256=93be9508bc197405ba6f6fcf7afacc8763d1135cb243bcd739b0907a08e2df82\n",
            "  Stored in directory: /root/.cache/pip/wheels/bf/b7/85/2f8044306ccec014930aea23ad4852fca9e2584e21c6972bc6\n",
            "Successfully built librosa\n",
            "Installing collected packages: librosa\n",
            "  Attempting uninstall: librosa\n",
            "    Found existing installation: librosa 0.7.2\n",
            "    Uninstalling librosa-0.7.2:\n",
            "      Successfully uninstalled librosa-0.7.2\n",
            "Successfully installed librosa-0.8.0\n"
          ]
        }
      ]
    },
    {
      "cell_type": "code",
      "source": [
        "!pip install numba"
      ],
      "metadata": {
        "colab": {
          "base_uri": "https://localhost:8080/"
        },
        "id": "lu_2f-fXRwxi",
        "outputId": "9fcf6040-81a3-4834-8e38-be51784f2a80"
      },
      "execution_count": null,
      "outputs": [
        {
          "output_type": "stream",
          "name": "stdout",
          "text": [
            "Looking in indexes: https://pypi.org/simple, https://us-python.pkg.dev/colab-wheels/public/simple/\n",
            "Requirement already satisfied: numba in /usr/local/lib/python3.10/dist-packages (0.56.4)\n",
            "Requirement already satisfied: llvmlite<0.40,>=0.39.0dev0 in /usr/local/lib/python3.10/dist-packages (from numba) (0.39.1)\n",
            "Requirement already satisfied: numpy<1.24,>=1.18 in /usr/local/lib/python3.10/dist-packages (from numba) (1.22.4)\n",
            "Requirement already satisfied: setuptools in /usr/local/lib/python3.10/dist-packages (from numba) (67.7.2)\n"
          ]
        }
      ]
    },
    {
      "cell_type": "code",
      "source": [
        "!python train.py --config config_v1.json --checkpoint_path /content/hifi-gan/universalWeights"
      ],
      "metadata": {
        "colab": {
          "base_uri": "https://localhost:8080/"
        },
        "id": "RuKhZAYE--a2",
        "outputId": "8e42c948-20e7-4526-d223-dcfa9c2abe64"
      },
      "execution_count": null,
      "outputs": [
        {
          "output_type": "stream",
          "name": "stdout",
          "text": [
            "2023-06-20 01:04:41.432684: I tensorflow/core/platform/cpu_feature_guard.cc:182] This TensorFlow binary is optimized to use available CPU instructions in performance-critical operations.\n",
            "To enable the following instructions: AVX2 FMA, in other operations, rebuild TensorFlow with the appropriate compiler flags.\n",
            "2023-06-20 01:04:42.353167: W tensorflow/compiler/tf2tensorrt/utils/py_utils.cc:38] TF-TRT Warning: Could not find TensorRT\n",
            "Initializing Training Process..\n",
            "Batch size per GPU : 16\n",
            "Generator(\n",
            "  (conv_pre): Conv1d(80, 512, kernel_size=(7,), stride=(1,), padding=(3,))\n",
            "  (ups): ModuleList(\n",
            "    (0): ConvTranspose1d(512, 256, kernel_size=(16,), stride=(8,), padding=(4,))\n",
            "    (1): ConvTranspose1d(256, 128, kernel_size=(16,), stride=(8,), padding=(4,))\n",
            "    (2): ConvTranspose1d(128, 64, kernel_size=(4,), stride=(2,), padding=(1,))\n",
            "    (3): ConvTranspose1d(64, 32, kernel_size=(4,), stride=(2,), padding=(1,))\n",
            "  )\n",
            "  (resblocks): ModuleList(\n",
            "    (0): ResBlock1(\n",
            "      (convs1): ModuleList(\n",
            "        (0): Conv1d(256, 256, kernel_size=(3,), stride=(1,), padding=(1,))\n",
            "        (1): Conv1d(256, 256, kernel_size=(3,), stride=(1,), padding=(3,), dilation=(3,))\n",
            "        (2): Conv1d(256, 256, kernel_size=(3,), stride=(1,), padding=(5,), dilation=(5,))\n",
            "      )\n",
            "      (convs2): ModuleList(\n",
            "        (0-2): 3 x Conv1d(256, 256, kernel_size=(3,), stride=(1,), padding=(1,))\n",
            "      )\n",
            "    )\n",
            "    (1): ResBlock1(\n",
            "      (convs1): ModuleList(\n",
            "        (0): Conv1d(256, 256, kernel_size=(7,), stride=(1,), padding=(3,))\n",
            "        (1): Conv1d(256, 256, kernel_size=(7,), stride=(1,), padding=(9,), dilation=(3,))\n",
            "        (2): Conv1d(256, 256, kernel_size=(7,), stride=(1,), padding=(15,), dilation=(5,))\n",
            "      )\n",
            "      (convs2): ModuleList(\n",
            "        (0-2): 3 x Conv1d(256, 256, kernel_size=(7,), stride=(1,), padding=(3,))\n",
            "      )\n",
            "    )\n",
            "    (2): ResBlock1(\n",
            "      (convs1): ModuleList(\n",
            "        (0): Conv1d(256, 256, kernel_size=(11,), stride=(1,), padding=(5,))\n",
            "        (1): Conv1d(256, 256, kernel_size=(11,), stride=(1,), padding=(15,), dilation=(3,))\n",
            "        (2): Conv1d(256, 256, kernel_size=(11,), stride=(1,), padding=(25,), dilation=(5,))\n",
            "      )\n",
            "      (convs2): ModuleList(\n",
            "        (0-2): 3 x Conv1d(256, 256, kernel_size=(11,), stride=(1,), padding=(5,))\n",
            "      )\n",
            "    )\n",
            "    (3): ResBlock1(\n",
            "      (convs1): ModuleList(\n",
            "        (0): Conv1d(128, 128, kernel_size=(3,), stride=(1,), padding=(1,))\n",
            "        (1): Conv1d(128, 128, kernel_size=(3,), stride=(1,), padding=(3,), dilation=(3,))\n",
            "        (2): Conv1d(128, 128, kernel_size=(3,), stride=(1,), padding=(5,), dilation=(5,))\n",
            "      )\n",
            "      (convs2): ModuleList(\n",
            "        (0-2): 3 x Conv1d(128, 128, kernel_size=(3,), stride=(1,), padding=(1,))\n",
            "      )\n",
            "    )\n",
            "    (4): ResBlock1(\n",
            "      (convs1): ModuleList(\n",
            "        (0): Conv1d(128, 128, kernel_size=(7,), stride=(1,), padding=(3,))\n",
            "        (1): Conv1d(128, 128, kernel_size=(7,), stride=(1,), padding=(9,), dilation=(3,))\n",
            "        (2): Conv1d(128, 128, kernel_size=(7,), stride=(1,), padding=(15,), dilation=(5,))\n",
            "      )\n",
            "      (convs2): ModuleList(\n",
            "        (0-2): 3 x Conv1d(128, 128, kernel_size=(7,), stride=(1,), padding=(3,))\n",
            "      )\n",
            "    )\n",
            "    (5): ResBlock1(\n",
            "      (convs1): ModuleList(\n",
            "        (0): Conv1d(128, 128, kernel_size=(11,), stride=(1,), padding=(5,))\n",
            "        (1): Conv1d(128, 128, kernel_size=(11,), stride=(1,), padding=(15,), dilation=(3,))\n",
            "        (2): Conv1d(128, 128, kernel_size=(11,), stride=(1,), padding=(25,), dilation=(5,))\n",
            "      )\n",
            "      (convs2): ModuleList(\n",
            "        (0-2): 3 x Conv1d(128, 128, kernel_size=(11,), stride=(1,), padding=(5,))\n",
            "      )\n",
            "    )\n",
            "    (6): ResBlock1(\n",
            "      (convs1): ModuleList(\n",
            "        (0): Conv1d(64, 64, kernel_size=(3,), stride=(1,), padding=(1,))\n",
            "        (1): Conv1d(64, 64, kernel_size=(3,), stride=(1,), padding=(3,), dilation=(3,))\n",
            "        (2): Conv1d(64, 64, kernel_size=(3,), stride=(1,), padding=(5,), dilation=(5,))\n",
            "      )\n",
            "      (convs2): ModuleList(\n",
            "        (0-2): 3 x Conv1d(64, 64, kernel_size=(3,), stride=(1,), padding=(1,))\n",
            "      )\n",
            "    )\n",
            "    (7): ResBlock1(\n",
            "      (convs1): ModuleList(\n",
            "        (0): Conv1d(64, 64, kernel_size=(7,), stride=(1,), padding=(3,))\n",
            "        (1): Conv1d(64, 64, kernel_size=(7,), stride=(1,), padding=(9,), dilation=(3,))\n",
            "        (2): Conv1d(64, 64, kernel_size=(7,), stride=(1,), padding=(15,), dilation=(5,))\n",
            "      )\n",
            "      (convs2): ModuleList(\n",
            "        (0-2): 3 x Conv1d(64, 64, kernel_size=(7,), stride=(1,), padding=(3,))\n",
            "      )\n",
            "    )\n",
            "    (8): ResBlock1(\n",
            "      (convs1): ModuleList(\n",
            "        (0): Conv1d(64, 64, kernel_size=(11,), stride=(1,), padding=(5,))\n",
            "        (1): Conv1d(64, 64, kernel_size=(11,), stride=(1,), padding=(15,), dilation=(3,))\n",
            "        (2): Conv1d(64, 64, kernel_size=(11,), stride=(1,), padding=(25,), dilation=(5,))\n",
            "      )\n",
            "      (convs2): ModuleList(\n",
            "        (0-2): 3 x Conv1d(64, 64, kernel_size=(11,), stride=(1,), padding=(5,))\n",
            "      )\n",
            "    )\n",
            "    (9): ResBlock1(\n",
            "      (convs1): ModuleList(\n",
            "        (0): Conv1d(32, 32, kernel_size=(3,), stride=(1,), padding=(1,))\n",
            "        (1): Conv1d(32, 32, kernel_size=(3,), stride=(1,), padding=(3,), dilation=(3,))\n",
            "        (2): Conv1d(32, 32, kernel_size=(3,), stride=(1,), padding=(5,), dilation=(5,))\n",
            "      )\n",
            "      (convs2): ModuleList(\n",
            "        (0-2): 3 x Conv1d(32, 32, kernel_size=(3,), stride=(1,), padding=(1,))\n",
            "      )\n",
            "    )\n",
            "    (10): ResBlock1(\n",
            "      (convs1): ModuleList(\n",
            "        (0): Conv1d(32, 32, kernel_size=(7,), stride=(1,), padding=(3,))\n",
            "        (1): Conv1d(32, 32, kernel_size=(7,), stride=(1,), padding=(9,), dilation=(3,))\n",
            "        (2): Conv1d(32, 32, kernel_size=(7,), stride=(1,), padding=(15,), dilation=(5,))\n",
            "      )\n",
            "      (convs2): ModuleList(\n",
            "        (0-2): 3 x Conv1d(32, 32, kernel_size=(7,), stride=(1,), padding=(3,))\n",
            "      )\n",
            "    )\n",
            "    (11): ResBlock1(\n",
            "      (convs1): ModuleList(\n",
            "        (0): Conv1d(32, 32, kernel_size=(11,), stride=(1,), padding=(5,))\n",
            "        (1): Conv1d(32, 32, kernel_size=(11,), stride=(1,), padding=(15,), dilation=(3,))\n",
            "        (2): Conv1d(32, 32, kernel_size=(11,), stride=(1,), padding=(25,), dilation=(5,))\n",
            "      )\n",
            "      (convs2): ModuleList(\n",
            "        (0-2): 3 x Conv1d(32, 32, kernel_size=(11,), stride=(1,), padding=(5,))\n",
            "      )\n",
            "    )\n",
            "  )\n",
            "  (conv_post): Conv1d(32, 1, kernel_size=(7,), stride=(1,), padding=(3,))\n",
            ")\n",
            "checkpoints directory :  /content/hifi-gan/universalWeights\n",
            "/usr/local/lib/python3.10/dist-packages/torch/utils/data/dataloader.py:560: UserWarning: This DataLoader will create 4 worker processes in total. Our suggested max number of worker in current system is 2, which is smaller than what this DataLoader is going to create. Please be aware that excessive worker creation might get DataLoader running slow or even freeze, lower the worker number to avoid potential slowness/freeze if necessary.\n",
            "  warnings.warn(_create_warning_msg(\n",
            "Epoch: 1\n",
            "/usr/local/lib/python3.10/dist-packages/torch/functional.py:641: UserWarning: stft with return_complex=False is deprecated. In a future pytorch release, stft will return complex tensors for all inputs, and return_complex=False will raise an error.\n",
            "Note: you can still call torch.view_as_real on the complex output to recover the old return format. (Triggered internally at ../aten/src/ATen/native/SpectralOps.cpp:862.)\n",
            "  return _VF.stft(input, n_fft, hop_length, win_length, window,  # type: ignore[attr-defined]\n",
            "/usr/local/lib/python3.10/dist-packages/torch/functional.py:641: UserWarning: stft with return_complex=False is deprecated. In a future pytorch release, stft will return complex tensors for all inputs, and return_complex=False will raise an error.\n",
            "Note: you can still call torch.view_as_real on the complex output to recover the old return format. (Triggered internally at ../aten/src/ATen/native/SpectralOps.cpp:862.)\n",
            "  return _VF.stft(input, n_fft, hop_length, win_length, window,  # type: ignore[attr-defined]\n",
            "/usr/local/lib/python3.10/dist-packages/torch/functional.py:641: UserWarning: stft with return_complex=False is deprecated. In a future pytorch release, stft will return complex tensors for all inputs, and return_complex=False will raise an error.\n",
            "Note: you can still call torch.view_as_real on the complex output to recover the old return format. (Triggered internally at ../aten/src/ATen/native/SpectralOps.cpp:862.)\n",
            "  return _VF.stft(input, n_fft, hop_length, win_length, window,  # type: ignore[attr-defined]\n",
            "/usr/local/lib/python3.10/dist-packages/torch/functional.py:641: UserWarning: stft with return_complex=False is deprecated. In a future pytorch release, stft will return complex tensors for all inputs, and return_complex=False will raise an error.\n",
            "Note: you can still call torch.view_as_real on the complex output to recover the old return format. (Triggered internally at ../aten/src/ATen/native/SpectralOps.cpp:862.)\n",
            "  return _VF.stft(input, n_fft, hop_length, win_length, window,  # type: ignore[attr-defined]\n",
            "/usr/local/lib/python3.10/dist-packages/torch/functional.py:641: UserWarning: stft with return_complex=False is deprecated. In a future pytorch release, stft will return complex tensors for all inputs, and return_complex=False will raise an error.\n",
            "Note: you can still call torch.view_as_real on the complex output to recover the old return format. (Triggered internally at ../aten/src/ATen/native/SpectralOps.cpp:862.)\n",
            "  return _VF.stft(input, n_fft, hop_length, win_length, window,  # type: ignore[attr-defined]\n",
            "Steps : 0, Gen Loss Total : 94.772, Mel-Spec. Error : 1.953, s/b : 32.158\n",
            "Steps : 5, Gen Loss Total : 62.347, Mel-Spec. Error : 1.310, s/b : 1.910\n",
            "Steps : 10, Gen Loss Total : 54.416, Mel-Spec. Error : 1.152, s/b : 1.929\n",
            "Steps : 15, Gen Loss Total : 53.087, Mel-Spec. Error : 1.096, s/b : 1.940\n",
            "Steps : 20, Gen Loss Total : 49.238, Mel-Spec. Error : 0.980, s/b : 1.950\n",
            "Steps : 25, Gen Loss Total : 51.891, Mel-Spec. Error : 1.008, s/b : 1.963\n",
            "Steps : 30, Gen Loss Total : 54.156, Mel-Spec. Error : 1.063, s/b : 1.992\n",
            "Steps : 35, Gen Loss Total : 47.741, Mel-Spec. Error : 0.916, s/b : 1.999\n",
            "Steps : 40, Gen Loss Total : 51.219, Mel-Spec. Error : 0.944, s/b : 2.015\n",
            "Steps : 45, Gen Loss Total : 50.153, Mel-Spec. Error : 0.888, s/b : 2.025\n",
            "Steps : 50, Gen Loss Total : 46.895, Mel-Spec. Error : 0.847, s/b : 2.043\n",
            "Steps : 55, Gen Loss Total : 45.472, Mel-Spec. Error : 0.817, s/b : 2.032\n",
            "Steps : 60, Gen Loss Total : 52.254, Mel-Spec. Error : 0.960, s/b : 2.024\n",
            "Steps : 65, Gen Loss Total : 52.613, Mel-Spec. Error : 0.902, s/b : 2.010\n",
            "Steps : 70, Gen Loss Total : 59.317, Mel-Spec. Error : 1.063, s/b : 2.007\n",
            "Steps : 75, Gen Loss Total : 56.507, Mel-Spec. Error : 1.012, s/b : 2.005\n",
            "Steps : 80, Gen Loss Total : 47.914, Mel-Spec. Error : 0.829, s/b : 2.006\n",
            "Steps : 85, Gen Loss Total : 52.233, Mel-Spec. Error : 0.847, s/b : 2.008\n",
            "Steps : 90, Gen Loss Total : 45.154, Mel-Spec. Error : 0.725, s/b : 2.007\n",
            "Steps : 95, Gen Loss Total : 50.941, Mel-Spec. Error : 0.887, s/b : 2.013\n",
            "Steps : 100, Gen Loss Total : 51.181, Mel-Spec. Error : 0.886, s/b : 2.010\n",
            "Steps : 105, Gen Loss Total : 50.227, Mel-Spec. Error : 0.870, s/b : 2.020\n",
            "Steps : 110, Gen Loss Total : 48.576, Mel-Spec. Error : 0.827, s/b : 2.018\n",
            "Steps : 115, Gen Loss Total : 47.328, Mel-Spec. Error : 0.797, s/b : 2.016\n",
            "Steps : 120, Gen Loss Total : 42.263, Mel-Spec. Error : 0.694, s/b : 2.014\n",
            "Steps : 125, Gen Loss Total : 52.934, Mel-Spec. Error : 0.944, s/b : 2.008\n",
            "Steps : 130, Gen Loss Total : 50.093, Mel-Spec. Error : 0.853, s/b : 2.008\n",
            "Steps : 135, Gen Loss Total : 48.480, Mel-Spec. Error : 0.829, s/b : 2.012\n",
            "Steps : 140, Gen Loss Total : 54.406, Mel-Spec. Error : 0.944, s/b : 2.016\n",
            "Steps : 145, Gen Loss Total : 46.274, Mel-Spec. Error : 0.727, s/b : 2.022\n",
            "Steps : 150, Gen Loss Total : 47.004, Mel-Spec. Error : 0.739, s/b : 2.013\n",
            "Steps : 155, Gen Loss Total : 47.068, Mel-Spec. Error : 0.756, s/b : 2.011\n",
            "Steps : 160, Gen Loss Total : 45.778, Mel-Spec. Error : 0.738, s/b : 2.015\n",
            "Steps : 165, Gen Loss Total : 45.983, Mel-Spec. Error : 0.772, s/b : 2.015\n",
            "Steps : 170, Gen Loss Total : 48.213, Mel-Spec. Error : 0.822, s/b : 2.019\n",
            "Steps : 175, Gen Loss Total : 45.211, Mel-Spec. Error : 0.733, s/b : 2.017\n",
            "Steps : 180, Gen Loss Total : 47.981, Mel-Spec. Error : 0.850, s/b : 2.017\n",
            "Steps : 185, Gen Loss Total : 43.553, Mel-Spec. Error : 0.747, s/b : 2.017\n",
            "Steps : 190, Gen Loss Total : 43.478, Mel-Spec. Error : 0.810, s/b : 2.022\n",
            "Steps : 195, Gen Loss Total : 46.205, Mel-Spec. Error : 0.855, s/b : 2.018\n",
            "Steps : 200, Gen Loss Total : 47.596, Mel-Spec. Error : 0.783, s/b : 2.023\n",
            "Steps : 205, Gen Loss Total : 45.349, Mel-Spec. Error : 0.781, s/b : 2.010\n",
            "Steps : 210, Gen Loss Total : 43.924, Mel-Spec. Error : 0.742, s/b : 2.012\n",
            "Steps : 215, Gen Loss Total : 47.087, Mel-Spec. Error : 0.797, s/b : 2.015\n",
            "Steps : 220, Gen Loss Total : 46.704, Mel-Spec. Error : 0.810, s/b : 2.018\n",
            "Steps : 225, Gen Loss Total : 49.502, Mel-Spec. Error : 0.912, s/b : 2.022\n",
            "Steps : 230, Gen Loss Total : 49.106, Mel-Spec. Error : 0.841, s/b : 2.019\n",
            "Steps : 235, Gen Loss Total : 49.780, Mel-Spec. Error : 0.873, s/b : 2.015\n",
            "Steps : 240, Gen Loss Total : 48.945, Mel-Spec. Error : 0.883, s/b : 2.017\n",
            "Steps : 245, Gen Loss Total : 48.616, Mel-Spec. Error : 0.872, s/b : 2.019\n",
            "Steps : 250, Gen Loss Total : 41.692, Mel-Spec. Error : 0.696, s/b : 2.022\n",
            "Steps : 255, Gen Loss Total : 44.606, Mel-Spec. Error : 0.745, s/b : 2.019\n",
            "Steps : 260, Gen Loss Total : 47.397, Mel-Spec. Error : 0.759, s/b : 2.025\n",
            "Steps : 265, Gen Loss Total : 44.014, Mel-Spec. Error : 0.734, s/b : 2.024\n",
            "Steps : 270, Gen Loss Total : 51.643, Mel-Spec. Error : 0.824, s/b : 2.020\n",
            "Steps : 275, Gen Loss Total : 47.060, Mel-Spec. Error : 0.814, s/b : 2.021\n",
            "Steps : 280, Gen Loss Total : 51.906, Mel-Spec. Error : 0.859, s/b : 2.013\n",
            "Steps : 285, Gen Loss Total : 42.936, Mel-Spec. Error : 0.765, s/b : 2.013\n",
            "Time taken for epoch 1 is 525 sec\n",
            "\n",
            "Epoch: 2\n",
            "Steps : 290, Gen Loss Total : 44.006, Mel-Spec. Error : 0.769, s/b : 1.733\n",
            "Steps : 295, Gen Loss Total : 45.062, Mel-Spec. Error : 0.719, s/b : 2.017\n",
            "Steps : 300, Gen Loss Total : 43.705, Mel-Spec. Error : 0.724, s/b : 2.014\n",
            "Steps : 305, Gen Loss Total : 42.853, Mel-Spec. Error : 0.711, s/b : 2.025\n",
            "Steps : 310, Gen Loss Total : 41.753, Mel-Spec. Error : 0.687, s/b : 2.022\n",
            "Steps : 315, Gen Loss Total : 43.987, Mel-Spec. Error : 0.729, s/b : 2.021\n",
            "Steps : 320, Gen Loss Total : 43.517, Mel-Spec. Error : 0.723, s/b : 2.020\n",
            "Steps : 325, Gen Loss Total : 39.961, Mel-Spec. Error : 0.675, s/b : 2.021\n",
            "Steps : 330, Gen Loss Total : 51.394, Mel-Spec. Error : 0.876, s/b : 2.019\n",
            "Steps : 335, Gen Loss Total : 41.143, Mel-Spec. Error : 0.691, s/b : 2.004\n",
            "Steps : 340, Gen Loss Total : 37.990, Mel-Spec. Error : 0.616, s/b : 2.015\n",
            "Steps : 345, Gen Loss Total : 40.615, Mel-Spec. Error : 0.668, s/b : 2.019\n",
            "Steps : 350, Gen Loss Total : 48.917, Mel-Spec. Error : 0.846, s/b : 2.022\n",
            "Steps : 355, Gen Loss Total : 39.914, Mel-Spec. Error : 0.630, s/b : 2.020\n",
            "Steps : 360, Gen Loss Total : 37.649, Mel-Spec. Error : 0.621, s/b : 2.020\n",
            "Steps : 365, Gen Loss Total : 42.585, Mel-Spec. Error : 0.738, s/b : 2.011\n",
            "Steps : 370, Gen Loss Total : 43.089, Mel-Spec. Error : 0.685, s/b : 2.009\n",
            "Steps : 375, Gen Loss Total : 46.376, Mel-Spec. Error : 0.734, s/b : 2.013\n",
            "Steps : 380, Gen Loss Total : 48.320, Mel-Spec. Error : 0.764, s/b : 2.011\n",
            "Steps : 385, Gen Loss Total : 40.122, Mel-Spec. Error : 0.643, s/b : 2.016\n",
            "Steps : 390, Gen Loss Total : 45.254, Mel-Spec. Error : 0.764, s/b : 2.023\n",
            "Steps : 395, Gen Loss Total : 46.760, Mel-Spec. Error : 0.761, s/b : 2.024\n",
            "Steps : 400, Gen Loss Total : 39.288, Mel-Spec. Error : 0.644, s/b : 2.020\n",
            "Steps : 405, Gen Loss Total : 47.108, Mel-Spec. Error : 0.743, s/b : 2.012\n",
            "Steps : 410, Gen Loss Total : 44.536, Mel-Spec. Error : 0.688, s/b : 2.014\n",
            "Steps : 415, Gen Loss Total : 44.387, Mel-Spec. Error : 0.725, s/b : 2.014\n",
            "Steps : 420, Gen Loss Total : 45.231, Mel-Spec. Error : 0.700, s/b : 2.014\n",
            "Steps : 425, Gen Loss Total : 44.148, Mel-Spec. Error : 0.719, s/b : 2.011\n",
            "Steps : 430, Gen Loss Total : 43.491, Mel-Spec. Error : 0.694, s/b : 2.012\n",
            "Steps : 435, Gen Loss Total : 41.723, Mel-Spec. Error : 0.685, s/b : 2.021\n",
            "Steps : 440, Gen Loss Total : 42.625, Mel-Spec. Error : 0.649, s/b : 2.011\n",
            "Steps : 445, Gen Loss Total : 43.713, Mel-Spec. Error : 0.721, s/b : 2.022\n",
            "Steps : 450, Gen Loss Total : 40.477, Mel-Spec. Error : 0.665, s/b : 2.021\n",
            "Steps : 455, Gen Loss Total : 48.253, Mel-Spec. Error : 0.744, s/b : 2.020\n",
            "Steps : 460, Gen Loss Total : 41.496, Mel-Spec. Error : 0.662, s/b : 2.022\n",
            "Steps : 465, Gen Loss Total : 40.853, Mel-Spec. Error : 0.677, s/b : 2.018\n",
            "Steps : 470, Gen Loss Total : 42.156, Mel-Spec. Error : 0.724, s/b : 2.019\n",
            "Steps : 475, Gen Loss Total : 41.512, Mel-Spec. Error : 0.675, s/b : 2.007\n",
            "Steps : 480, Gen Loss Total : 34.870, Mel-Spec. Error : 0.588, s/b : 2.009\n",
            "Steps : 485, Gen Loss Total : 42.748, Mel-Spec. Error : 0.737, s/b : 2.012\n",
            "Steps : 490, Gen Loss Total : 41.757, Mel-Spec. Error : 0.680, s/b : 2.010\n",
            "Steps : 495, Gen Loss Total : 41.036, Mel-Spec. Error : 0.699, s/b : 2.013\n",
            "Steps : 500, Gen Loss Total : 39.868, Mel-Spec. Error : 0.671, s/b : 2.013\n",
            "Steps : 505, Gen Loss Total : 37.683, Mel-Spec. Error : 0.633, s/b : 2.015\n",
            "Steps : 510, Gen Loss Total : 40.204, Mel-Spec. Error : 0.673, s/b : 2.017\n",
            "Steps : 515, Gen Loss Total : 40.142, Mel-Spec. Error : 0.737, s/b : 2.016\n",
            "Steps : 520, Gen Loss Total : 40.417, Mel-Spec. Error : 0.683, s/b : 2.015\n",
            "Steps : 525, Gen Loss Total : 39.448, Mel-Spec. Error : 0.656, s/b : 2.011\n",
            "Steps : 530, Gen Loss Total : 41.152, Mel-Spec. Error : 0.693, s/b : 2.014\n",
            "Steps : 535, Gen Loss Total : 40.750, Mel-Spec. Error : 0.701, s/b : 2.015\n",
            "Steps : 540, Gen Loss Total : 34.572, Mel-Spec. Error : 0.587, s/b : 2.014\n",
            "Steps : 545, Gen Loss Total : 36.098, Mel-Spec. Error : 0.613, s/b : 2.004\n",
            "Steps : 550, Gen Loss Total : 43.036, Mel-Spec. Error : 0.755, s/b : 2.016\n",
            "Steps : 555, Gen Loss Total : 40.532, Mel-Spec. Error : 0.699, s/b : 2.016\n",
            "Steps : 560, Gen Loss Total : 42.630, Mel-Spec. Error : 0.752, s/b : 2.012\n",
            "Steps : 565, Gen Loss Total : 34.109, Mel-Spec. Error : 0.609, s/b : 2.016\n",
            "Steps : 570, Gen Loss Total : 37.102, Mel-Spec. Error : 0.672, s/b : 2.014\n",
            "Steps : 575, Gen Loss Total : 37.218, Mel-Spec. Error : 0.651, s/b : 2.014\n",
            "Time taken for epoch 2 is 491 sec\n",
            "\n",
            "Epoch: 3\n",
            "Steps : 580, Gen Loss Total : 44.458, Mel-Spec. Error : 0.785, s/b : 1.825\n",
            "Steps : 585, Gen Loss Total : 35.883, Mel-Spec. Error : 0.646, s/b : 2.012\n",
            "Steps : 590, Gen Loss Total : 36.977, Mel-Spec. Error : 0.624, s/b : 2.019\n",
            "Steps : 595, Gen Loss Total : 34.460, Mel-Spec. Error : 0.604, s/b : 2.013\n",
            "Steps : 600, Gen Loss Total : 35.527, Mel-Spec. Error : 0.600, s/b : 2.011\n",
            "Steps : 605, Gen Loss Total : 35.875, Mel-Spec. Error : 0.588, s/b : 2.014\n",
            "Steps : 610, Gen Loss Total : 38.939, Mel-Spec. Error : 0.688, s/b : 2.013\n",
            "Steps : 615, Gen Loss Total : 39.271, Mel-Spec. Error : 0.631, s/b : 2.011\n",
            "Steps : 620, Gen Loss Total : 41.779, Mel-Spec. Error : 0.725, s/b : 2.019\n",
            "Steps : 625, Gen Loss Total : 36.278, Mel-Spec. Error : 0.614, s/b : 2.021\n",
            "Steps : 630, Gen Loss Total : 35.397, Mel-Spec. Error : 0.584, s/b : 2.018\n",
            "Steps : 635, Gen Loss Total : 37.817, Mel-Spec. Error : 0.664, s/b : 2.022\n",
            "Steps : 640, Gen Loss Total : 38.506, Mel-Spec. Error : 0.662, s/b : 2.022\n",
            "Steps : 645, Gen Loss Total : 32.923, Mel-Spec. Error : 0.580, s/b : 2.021\n",
            "Steps : 650, Gen Loss Total : 38.248, Mel-Spec. Error : 0.637, s/b : 2.015\n",
            "Steps : 655, Gen Loss Total : 37.590, Mel-Spec. Error : 0.700, s/b : 2.023\n",
            "Steps : 660, Gen Loss Total : 38.661, Mel-Spec. Error : 0.670, s/b : 2.017\n",
            "Steps : 665, Gen Loss Total : 36.192, Mel-Spec. Error : 0.594, s/b : 2.016\n",
            "Steps : 670, Gen Loss Total : 34.948, Mel-Spec. Error : 0.593, s/b : 2.019\n",
            "Steps : 675, Gen Loss Total : 34.086, Mel-Spec. Error : 0.586, s/b : 2.010\n",
            "Steps : 680, Gen Loss Total : 34.077, Mel-Spec. Error : 0.594, s/b : 2.007\n",
            "Steps : 685, Gen Loss Total : 36.953, Mel-Spec. Error : 0.654, s/b : 2.013\n",
            "Steps : 690, Gen Loss Total : 30.459, Mel-Spec. Error : 0.533, s/b : 2.010\n",
            "Steps : 695, Gen Loss Total : 38.420, Mel-Spec. Error : 0.659, s/b : 2.019\n",
            "Steps : 700, Gen Loss Total : 33.812, Mel-Spec. Error : 0.602, s/b : 2.024\n",
            "Steps : 705, Gen Loss Total : 36.595, Mel-Spec. Error : 0.664, s/b : 2.021\n",
            "Steps : 710, Gen Loss Total : 35.516, Mel-Spec. Error : 0.616, s/b : 2.021\n",
            "Steps : 715, Gen Loss Total : 35.487, Mel-Spec. Error : 0.619, s/b : 2.018\n",
            "Steps : 720, Gen Loss Total : 35.777, Mel-Spec. Error : 0.625, s/b : 2.012\n",
            "Steps : 725, Gen Loss Total : 34.318, Mel-Spec. Error : 0.592, s/b : 2.010\n",
            "Steps : 730, Gen Loss Total : 33.579, Mel-Spec. Error : 0.568, s/b : 2.010\n",
            "Steps : 735, Gen Loss Total : 33.906, Mel-Spec. Error : 0.579, s/b : 2.015\n",
            "Steps : 740, Gen Loss Total : 32.094, Mel-Spec. Error : 0.554, s/b : 2.011\n",
            "Steps : 745, Gen Loss Total : 35.707, Mel-Spec. Error : 0.586, s/b : 2.013\n",
            "Steps : 750, Gen Loss Total : 35.246, Mel-Spec. Error : 0.603, s/b : 2.020\n",
            "Steps : 755, Gen Loss Total : 31.019, Mel-Spec. Error : 0.542, s/b : 2.018\n",
            "Steps : 760, Gen Loss Total : 34.085, Mel-Spec. Error : 0.581, s/b : 2.021\n",
            "Steps : 765, Gen Loss Total : 34.486, Mel-Spec. Error : 0.559, s/b : 2.021\n",
            "Steps : 770, Gen Loss Total : 39.651, Mel-Spec. Error : 0.711, s/b : 2.012\n",
            "Steps : 775, Gen Loss Total : 38.142, Mel-Spec. Error : 0.686, s/b : 2.022\n",
            "Steps : 780, Gen Loss Total : 34.271, Mel-Spec. Error : 0.567, s/b : 2.016\n",
            "Steps : 785, Gen Loss Total : 33.250, Mel-Spec. Error : 0.556, s/b : 2.017\n",
            "Steps : 790, Gen Loss Total : 38.271, Mel-Spec. Error : 0.652, s/b : 2.018\n",
            "Steps : 795, Gen Loss Total : 31.663, Mel-Spec. Error : 0.557, s/b : 2.016\n",
            "Steps : 800, Gen Loss Total : 35.062, Mel-Spec. Error : 0.619, s/b : 2.016\n",
            "Steps : 805, Gen Loss Total : 33.191, Mel-Spec. Error : 0.569, s/b : 2.019\n",
            "Steps : 810, Gen Loss Total : 33.568, Mel-Spec. Error : 0.600, s/b : 2.019\n",
            "Steps : 815, Gen Loss Total : 32.829, Mel-Spec. Error : 0.566, s/b : 2.012\n",
            "Steps : 820, Gen Loss Total : 36.226, Mel-Spec. Error : 0.636, s/b : 2.019\n",
            "Steps : 825, Gen Loss Total : 34.391, Mel-Spec. Error : 0.571, s/b : 2.016\n",
            "Steps : 830, Gen Loss Total : 31.039, Mel-Spec. Error : 0.528, s/b : 2.016\n",
            "Steps : 835, Gen Loss Total : 35.635, Mel-Spec. Error : 0.610, s/b : 2.020\n",
            "Steps : 840, Gen Loss Total : 34.640, Mel-Spec. Error : 0.603, s/b : 2.004\n",
            "Steps : 845, Gen Loss Total : 33.596, Mel-Spec. Error : 0.595, s/b : 2.014\n",
            "Steps : 850, Gen Loss Total : 38.821, Mel-Spec. Error : 0.693, s/b : 2.012\n",
            "Steps : 855, Gen Loss Total : 33.277, Mel-Spec. Error : 0.563, s/b : 2.014\n",
            "Steps : 860, Gen Loss Total : 34.399, Mel-Spec. Error : 0.599, s/b : 2.016\n",
            "Steps : 865, Gen Loss Total : 34.825, Mel-Spec. Error : 0.585, s/b : 2.017\n",
            "Time taken for epoch 3 is 492 sec\n",
            "\n",
            "Epoch: 4\n",
            "Steps : 870, Gen Loss Total : 35.332, Mel-Spec. Error : 0.601, s/b : 1.762\n",
            "Steps : 875, Gen Loss Total : 30.957, Mel-Spec. Error : 0.550, s/b : 2.007\n",
            "Steps : 880, Gen Loss Total : 32.427, Mel-Spec. Error : 0.559, s/b : 2.011\n",
            "Steps : 885, Gen Loss Total : 34.392, Mel-Spec. Error : 0.582, s/b : 2.014\n",
            "Steps : 890, Gen Loss Total : 34.148, Mel-Spec. Error : 0.587, s/b : 2.010\n",
            "Steps : 895, Gen Loss Total : 35.888, Mel-Spec. Error : 0.600, s/b : 2.015\n",
            "Steps : 900, Gen Loss Total : 30.544, Mel-Spec. Error : 0.524, s/b : 2.014\n",
            "Steps : 905, Gen Loss Total : 31.641, Mel-Spec. Error : 0.523, s/b : 2.011\n",
            "Steps : 910, Gen Loss Total : 32.450, Mel-Spec. Error : 0.546, s/b : 2.005\n",
            "Steps : 915, Gen Loss Total : 33.844, Mel-Spec. Error : 0.571, s/b : 2.020\n",
            "Steps : 920, Gen Loss Total : 33.242, Mel-Spec. Error : 0.579, s/b : 2.013\n",
            "Steps : 925, Gen Loss Total : 30.992, Mel-Spec. Error : 0.543, s/b : 2.017\n",
            "Steps : 930, Gen Loss Total : 32.839, Mel-Spec. Error : 0.562, s/b : 2.014\n",
            "Steps : 935, Gen Loss Total : 37.699, Mel-Spec. Error : 0.645, s/b : 2.016\n",
            "Steps : 940, Gen Loss Total : 31.679, Mel-Spec. Error : 0.545, s/b : 2.019\n",
            "Steps : 945, Gen Loss Total : 31.334, Mel-Spec. Error : 0.545, s/b : 2.009\n",
            "Steps : 950, Gen Loss Total : 30.434, Mel-Spec. Error : 0.512, s/b : 2.017\n",
            "Steps : 955, Gen Loss Total : 33.726, Mel-Spec. Error : 0.575, s/b : 2.020\n",
            "Steps : 960, Gen Loss Total : 33.143, Mel-Spec. Error : 0.550, s/b : 2.017\n",
            "Steps : 965, Gen Loss Total : 31.823, Mel-Spec. Error : 0.565, s/b : 2.013\n",
            "Steps : 970, Gen Loss Total : 35.944, Mel-Spec. Error : 0.634, s/b : 2.014\n",
            "Steps : 975, Gen Loss Total : 32.069, Mel-Spec. Error : 0.573, s/b : 2.013\n",
            "Steps : 980, Gen Loss Total : 30.095, Mel-Spec. Error : 0.513, s/b : 2.015\n",
            "Steps : 985, Gen Loss Total : 32.992, Mel-Spec. Error : 0.576, s/b : 2.020\n",
            "Steps : 990, Gen Loss Total : 31.057, Mel-Spec. Error : 0.537, s/b : 2.012\n",
            "Steps : 995, Gen Loss Total : 33.078, Mel-Spec. Error : 0.566, s/b : 2.017\n",
            "Steps : 1000, Gen Loss Total : 32.945, Mel-Spec. Error : 0.527, s/b : 2.012\n",
            "Steps : 1005, Gen Loss Total : 28.386, Mel-Spec. Error : 0.499, s/b : 2.019\n",
            "Steps : 1010, Gen Loss Total : 35.909, Mel-Spec. Error : 0.600, s/b : 2.019\n",
            "Steps : 1015, Gen Loss Total : 34.189, Mel-Spec. Error : 0.577, s/b : 2.017\n",
            "Steps : 1020, Gen Loss Total : 32.487, Mel-Spec. Error : 0.544, s/b : 2.022\n",
            "Steps : 1025, Gen Loss Total : 31.136, Mel-Spec. Error : 0.527, s/b : 2.022\n",
            "Steps : 1030, Gen Loss Total : 30.280, Mel-Spec. Error : 0.501, s/b : 2.019\n",
            "Steps : 1035, Gen Loss Total : 34.500, Mel-Spec. Error : 0.578, s/b : 2.011\n",
            "Steps : 1040, Gen Loss Total : 34.941, Mel-Spec. Error : 0.602, s/b : 2.011\n",
            "Steps : 1045, Gen Loss Total : 29.969, Mel-Spec. Error : 0.510, s/b : 2.014\n",
            "Steps : 1050, Gen Loss Total : 32.250, Mel-Spec. Error : 0.553, s/b : 2.016\n",
            "Steps : 1055, Gen Loss Total : 34.653, Mel-Spec. Error : 0.583, s/b : 2.018\n",
            "Steps : 1060, Gen Loss Total : 34.981, Mel-Spec. Error : 0.576, s/b : 2.018\n",
            "Steps : 1065, Gen Loss Total : 34.098, Mel-Spec. Error : 0.572, s/b : 2.020\n",
            "Steps : 1070, Gen Loss Total : 34.140, Mel-Spec. Error : 0.568, s/b : 2.012\n",
            "Steps : 1075, Gen Loss Total : 31.621, Mel-Spec. Error : 0.536, s/b : 2.021\n",
            "Steps : 1080, Gen Loss Total : 35.308, Mel-Spec. Error : 0.603, s/b : 2.020\n",
            "Steps : 1085, Gen Loss Total : 31.038, Mel-Spec. Error : 0.524, s/b : 2.017\n",
            "Steps : 1090, Gen Loss Total : 33.694, Mel-Spec. Error : 0.544, s/b : 2.016\n",
            "Steps : 1095, Gen Loss Total : 37.493, Mel-Spec. Error : 0.627, s/b : 2.017\n",
            "Steps : 1100, Gen Loss Total : 29.997, Mel-Spec. Error : 0.529, s/b : 2.020\n",
            "Steps : 1105, Gen Loss Total : 33.013, Mel-Spec. Error : 0.538, s/b : 2.004\n",
            "Steps : 1110, Gen Loss Total : 36.115, Mel-Spec. Error : 0.623, s/b : 2.019\n",
            "Steps : 1115, Gen Loss Total : 32.227, Mel-Spec. Error : 0.536, s/b : 2.018\n",
            "Steps : 1120, Gen Loss Total : 32.479, Mel-Spec. Error : 0.527, s/b : 2.019\n",
            "Steps : 1125, Gen Loss Total : 33.997, Mel-Spec. Error : 0.548, s/b : 2.017\n",
            "Steps : 1130, Gen Loss Total : 33.059, Mel-Spec. Error : 0.541, s/b : 2.026\n",
            "Steps : 1135, Gen Loss Total : 30.878, Mel-Spec. Error : 0.515, s/b : 2.023\n",
            "Steps : 1140, Gen Loss Total : 37.696, Mel-Spec. Error : 0.659, s/b : 2.017\n",
            "Steps : 1145, Gen Loss Total : 31.804, Mel-Spec. Error : 0.523, s/b : 2.021\n",
            "Steps : 1150, Gen Loss Total : 35.708, Mel-Spec. Error : 0.620, s/b : 2.019\n",
            "Steps : 1155, Gen Loss Total : 33.832, Mel-Spec. Error : 0.567, s/b : 2.021\n",
            "Time taken for epoch 4 is 493 sec\n",
            "\n",
            "Epoch: 5\n",
            "Steps : 1160, Gen Loss Total : 35.293, Mel-Spec. Error : 0.593, s/b : 1.901\n",
            "Steps : 1165, Gen Loss Total : 31.616, Mel-Spec. Error : 0.543, s/b : 2.020\n",
            "Steps : 1170, Gen Loss Total : 39.158, Mel-Spec. Error : 0.584, s/b : 2.024\n",
            "Steps : 1175, Gen Loss Total : 32.519, Mel-Spec. Error : 0.554, s/b : 2.023\n",
            "Steps : 1180, Gen Loss Total : 32.487, Mel-Spec. Error : 0.523, s/b : 2.021\n",
            "Steps : 1185, Gen Loss Total : 34.556, Mel-Spec. Error : 0.595, s/b : 2.020\n",
            "Steps : 1190, Gen Loss Total : 30.152, Mel-Spec. Error : 0.521, s/b : 2.019\n",
            "Steps : 1195, Gen Loss Total : 30.895, Mel-Spec. Error : 0.514, s/b : 2.020\n",
            "Steps : 1200, Gen Loss Total : 31.466, Mel-Spec. Error : 0.542, s/b : 2.020\n",
            "Steps : 1205, Gen Loss Total : 30.820, Mel-Spec. Error : 0.516, s/b : 2.019\n",
            "Steps : 1210, Gen Loss Total : 31.752, Mel-Spec. Error : 0.554, s/b : 2.010\n",
            "Steps : 1215, Gen Loss Total : 30.119, Mel-Spec. Error : 0.512, s/b : 2.021\n",
            "Steps : 1220, Gen Loss Total : 33.438, Mel-Spec. Error : 0.585, s/b : 2.019\n",
            "Steps : 1225, Gen Loss Total : 30.321, Mel-Spec. Error : 0.501, s/b : 2.021\n",
            "Steps : 1230, Gen Loss Total : 30.652, Mel-Spec. Error : 0.529, s/b : 2.019\n",
            "Steps : 1235, Gen Loss Total : 31.476, Mel-Spec. Error : 0.549, s/b : 2.021\n",
            "Steps : 1240, Gen Loss Total : 28.944, Mel-Spec. Error : 0.499, s/b : 2.025\n",
            "Steps : 1245, Gen Loss Total : 31.220, Mel-Spec. Error : 0.521, s/b : 2.012\n",
            "Steps : 1250, Gen Loss Total : 31.922, Mel-Spec. Error : 0.533, s/b : 2.023\n",
            "Steps : 1255, Gen Loss Total : 30.325, Mel-Spec. Error : 0.511, s/b : 2.023\n",
            "Steps : 1260, Gen Loss Total : 29.711, Mel-Spec. Error : 0.508, s/b : 2.018\n",
            "Steps : 1265, Gen Loss Total : 32.466, Mel-Spec. Error : 0.557, s/b : 2.021\n",
            "Steps : 1270, Gen Loss Total : 31.237, Mel-Spec. Error : 0.517, s/b : 2.022\n",
            "Steps : 1275, Gen Loss Total : 35.251, Mel-Spec. Error : 0.568, s/b : 2.019\n",
            "Steps : 1280, Gen Loss Total : 28.932, Mel-Spec. Error : 0.480, s/b : 2.010\n",
            "Steps : 1285, Gen Loss Total : 35.737, Mel-Spec. Error : 0.630, s/b : 2.018\n",
            "Steps : 1290, Gen Loss Total : 32.557, Mel-Spec. Error : 0.522, s/b : 2.018\n",
            "Steps : 1295, Gen Loss Total : 29.342, Mel-Spec. Error : 0.495, s/b : 2.024\n",
            "Steps : 1300, Gen Loss Total : 31.476, Mel-Spec. Error : 0.525, s/b : 2.024\n",
            "Steps : 1305, Gen Loss Total : 36.449, Mel-Spec. Error : 0.626, s/b : 2.019\n",
            "Steps : 1310, Gen Loss Total : 31.416, Mel-Spec. Error : 0.526, s/b : 2.020\n",
            "Steps : 1315, Gen Loss Total : 32.481, Mel-Spec. Error : 0.531, s/b : 2.001\n",
            "Steps : 1320, Gen Loss Total : 34.506, Mel-Spec. Error : 0.555, s/b : 2.021\n",
            "Steps : 1325, Gen Loss Total : 34.998, Mel-Spec. Error : 0.565, s/b : 2.021\n",
            "Steps : 1330, Gen Loss Total : 33.890, Mel-Spec. Error : 0.551, s/b : 2.018\n",
            "Steps : 1335, Gen Loss Total : 29.283, Mel-Spec. Error : 0.496, s/b : 2.016\n",
            "Steps : 1340, Gen Loss Total : 29.465, Mel-Spec. Error : 0.498, s/b : 2.024\n",
            "Steps : 1345, Gen Loss Total : 33.281, Mel-Spec. Error : 0.539, s/b : 2.020\n",
            "Steps : 1350, Gen Loss Total : 37.458, Mel-Spec. Error : 0.660, s/b : 2.014\n",
            "Steps : 1355, Gen Loss Total : 33.813, Mel-Spec. Error : 0.559, s/b : 2.019\n",
            "Steps : 1360, Gen Loss Total : 30.441, Mel-Spec. Error : 0.508, s/b : 2.023\n",
            "Steps : 1365, Gen Loss Total : 29.190, Mel-Spec. Error : 0.485, s/b : 2.019\n",
            "Steps : 1370, Gen Loss Total : 32.283, Mel-Spec. Error : 0.531, s/b : 2.025\n",
            "Steps : 1375, Gen Loss Total : 29.320, Mel-Spec. Error : 0.475, s/b : 2.027\n",
            "Steps : 1380, Gen Loss Total : 32.365, Mel-Spec. Error : 0.508, s/b : 2.024\n",
            "Steps : 1385, Gen Loss Total : 32.663, Mel-Spec. Error : 0.537, s/b : 2.011\n",
            "Steps : 1390, Gen Loss Total : 32.141, Mel-Spec. Error : 0.532, s/b : 2.020\n",
            "Steps : 1395, Gen Loss Total : 32.410, Mel-Spec. Error : 0.540, s/b : 2.021\n",
            "Steps : 1400, Gen Loss Total : 33.975, Mel-Spec. Error : 0.580, s/b : 2.023\n",
            "Steps : 1405, Gen Loss Total : 33.259, Mel-Spec. Error : 0.536, s/b : 2.013\n",
            "Steps : 1410, Gen Loss Total : 30.248, Mel-Spec. Error : 0.495, s/b : 2.012\n",
            "Steps : 1415, Gen Loss Total : 28.675, Mel-Spec. Error : 0.491, s/b : 2.017\n",
            "Steps : 1420, Gen Loss Total : 31.997, Mel-Spec. Error : 0.525, s/b : 2.015\n",
            "Steps : 1425, Gen Loss Total : 28.788, Mel-Spec. Error : 0.477, s/b : 2.011\n",
            "Steps : 1430, Gen Loss Total : 36.596, Mel-Spec. Error : 0.626, s/b : 2.021\n",
            "Steps : 1435, Gen Loss Total : 31.118, Mel-Spec. Error : 0.517, s/b : 2.017\n",
            "Steps : 1440, Gen Loss Total : 32.334, Mel-Spec. Error : 0.535, s/b : 2.017\n",
            "Steps : 1445, Gen Loss Total : 31.886, Mel-Spec. Error : 0.516, s/b : 2.020\n",
            "Time taken for epoch 5 is 493 sec\n",
            "\n",
            "Epoch: 6\n",
            "Steps : 1450, Gen Loss Total : 31.547, Mel-Spec. Error : 0.539, s/b : 1.767\n",
            "Steps : 1455, Gen Loss Total : 31.122, Mel-Spec. Error : 0.527, s/b : 2.009\n",
            "Steps : 1460, Gen Loss Total : 32.865, Mel-Spec. Error : 0.535, s/b : 2.022\n",
            "Steps : 1465, Gen Loss Total : 29.113, Mel-Spec. Error : 0.481, s/b : 2.021\n",
            "Steps : 1470, Gen Loss Total : 30.190, Mel-Spec. Error : 0.493, s/b : 2.021\n",
            "Steps : 1475, Gen Loss Total : 31.273, Mel-Spec. Error : 0.523, s/b : 2.025\n",
            "Steps : 1480, Gen Loss Total : 30.722, Mel-Spec. Error : 0.494, s/b : 2.019\n",
            "Steps : 1485, Gen Loss Total : 32.309, Mel-Spec. Error : 0.538, s/b : 2.022\n",
            "Steps : 1490, Gen Loss Total : 31.056, Mel-Spec. Error : 0.526, s/b : 2.015\n",
            "Steps : 1495, Gen Loss Total : 30.516, Mel-Spec. Error : 0.486, s/b : 2.021\n",
            "Steps : 1500, Gen Loss Total : 31.613, Mel-Spec. Error : 0.519, s/b : 2.022\n",
            "Steps : 1505, Gen Loss Total : 30.181, Mel-Spec. Error : 0.492, s/b : 2.022\n",
            "Steps : 1510, Gen Loss Total : 30.671, Mel-Spec. Error : 0.497, s/b : 2.021\n",
            "Steps : 1515, Gen Loss Total : 31.201, Mel-Spec. Error : 0.503, s/b : 2.019\n",
            "Steps : 1520, Gen Loss Total : 29.857, Mel-Spec. Error : 0.479, s/b : 2.023\n",
            "Steps : 1525, Gen Loss Total : 34.835, Mel-Spec. Error : 0.573, s/b : 2.009\n",
            "Steps : 1530, Gen Loss Total : 31.729, Mel-Spec. Error : 0.514, s/b : 2.017\n",
            "Exception ignored in: <function _MultiProcessingDataLoaderIter.__del__ at 0x7fc1ce2badd0>\n",
            "Traceback (most recent call last):\n",
            "  File \"/usr/local/lib/python3.10/dist-packages/torch/utils/data/dataloader.py\", line 1478, in __del__\n",
            "    self._shutdown_workers()\n",
            "  File \"/usr/local/lib/python3.10/dist-packages/torch/utils/data/dataloader.py\", line 1442, in _shutdown_workers\n",
            "    w.join(timeout=_utils.MP_STATUS_CHECK_INTERVAL)\n",
            "  File \"/usr/lib/python3.10/multiprocessing/process.py\", line 149, in join\n",
            "    res = self._popen.wait(timeout)\n",
            "  File \"/usr/lib/python3.10/multiprocessing/popen_fork.py\", line 40, in wait\n",
            "    if not wait([self.sentinel], timeout):\n",
            "  File \"/usr/lib/python3.10/multiprocessing/connection.py\", line 931, in wait\n",
            "    ready = selector.select(timeout)\n",
            "  File \"/usr/lib/python3.10/selectors.py\", line 416, in select\n",
            "    fd_event_list = self._selector.poll(timeout)\n",
            "KeyboardInterrupt: \n",
            "Traceback (most recent call last):\n",
            "  File \"/content/hifi-gan/train.py\", line 271, in <module>\n",
            "    main()\n",
            "  File \"/content/hifi-gan/train.py\", line 267, in main\n",
            "    train(0, a, h)\n",
            "  File \"/content/hifi-gan/train.py\", line 148, in train\n",
            "    y_ds_hat_r, y_ds_hat_g, fmap_s_r, fmap_s_g = msd(y, y_g_hat)\n",
            "  File \"/usr/local/lib/python3.10/dist-packages/torch/nn/modules/module.py\", line 1501, in _call_impl\n",
            "    return forward_call(*args, **kwargs)\n",
            "  File \"/content/hifi-gan/models.py\", line 241, in forward\n",
            "    y_d_r, fmap_r = d(y)\n",
            "  File \"/usr/local/lib/python3.10/dist-packages/torch/nn/modules/module.py\", line 1501, in _call_impl\n",
            "    return forward_call(*args, **kwargs)\n",
            "  File \"/content/hifi-gan/models.py\", line 209, in forward\n",
            "    x = l(x)\n",
            "  File \"/usr/local/lib/python3.10/dist-packages/torch/nn/modules/module.py\", line 1527, in _call_impl\n",
            "    result = hook(self, args)\n",
            "  File \"/usr/local/lib/python3.10/dist-packages/torch/nn/utils/weight_norm.py\", line 65, in __call__\n",
            "    setattr(module, self.name, self.compute_weight(module))\n",
            "  File \"/usr/local/lib/python3.10/dist-packages/torch/nn/utils/weight_norm.py\", line 25, in compute_weight\n",
            "    return _weight_norm(v, g, self.dim)\n",
            "KeyboardInterrupt\n",
            "^C\n"
          ]
        }
      ]
    },
    {
      "cell_type": "code",
      "source": [],
      "metadata": {
        "id": "PLFPAfYd--YK"
      },
      "execution_count": null,
      "outputs": []
    },
    {
      "cell_type": "code",
      "source": [],
      "metadata": {
        "id": "DiCS71qm--Va"
      },
      "execution_count": null,
      "outputs": []
    },
    {
      "cell_type": "code",
      "source": [],
      "metadata": {
        "id": "fWTzAkpu--Su"
      },
      "execution_count": null,
      "outputs": []
    },
    {
      "cell_type": "code",
      "source": [],
      "metadata": {
        "id": "BJOmuV4z--QD"
      },
      "execution_count": null,
      "outputs": []
    }
  ]
}